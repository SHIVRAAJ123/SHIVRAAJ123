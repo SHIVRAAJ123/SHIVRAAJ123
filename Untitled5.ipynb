{
  "nbformat": 4,
  "nbformat_minor": 0,
  "metadata": {
    "colab": {
      "provenance": [],
      "gpuType": "T4",
      "authorship_tag": "ABX9TyM4nB5RCjNPBL3FzLR7mPvS",
      "include_colab_link": true
    },
    "kernelspec": {
      "name": "python3",
      "display_name": "Python 3"
    },
    "language_info": {
      "name": "python"
    },
    "accelerator": "GPU"
  },
  "cells": [
    {
      "cell_type": "markdown",
      "metadata": {
        "id": "view-in-github",
        "colab_type": "text"
      },
      "source": [
        "<a href=\"https://colab.research.google.com/github/SHIVRAAJ123/SHIVRAAJ123/blob/main/Untitled5.ipynb\" target=\"_parent\"><img src=\"https://colab.research.google.com/assets/colab-badge.svg\" alt=\"Open In Colab\"/></a>"
      ]
    },
    {
      "cell_type": "code",
      "execution_count": 1,
      "metadata": {
        "colab": {
          "base_uri": "https://localhost:8080/"
        },
        "id": "-HnEO5K5XpH8",
        "outputId": "046b5cf0-b1d4-446d-a4e0-5b782b43e993"
      },
      "outputs": [
        {
          "output_type": "stream",
          "name": "stdout",
          "text": [
            "Mounted at /content/drive\n"
          ]
        }
      ],
      "source": [
        "from google.colab import drive\n",
        "drive.mount('/content/drive')"
      ]
    },
    {
      "cell_type": "code",
      "source": [
        "import os"
      ],
      "metadata": {
        "id": "xLxRIcwiYAGo"
      },
      "execution_count": 2,
      "outputs": []
    },
    {
      "cell_type": "code",
      "source": [
        "import numpy as np\n",
        "import tensorflow as tf\n",
        "from tensorflow.keras.applications import ResNet50\n",
        "from tensorflow.keras.preprocessing.image import ImageDataGenerator\n",
        "from tensorflow.keras.layers import Dense, GlobalAveragePooling2D\n",
        "from tensorflow.keras.models import Model\n",
        "from sklearn.metrics import classification_report, confusion_matrix\n",
        "\n",
        "# For visualization\n",
        "import matplotlib.pyplot as plt\n",
        "import seaborn as sns\n"
      ],
      "metadata": {
        "id": "0wzunKrEYVGA"
      },
      "execution_count": 3,
      "outputs": []
    },
    {
      "cell_type": "code",
      "source": [
        "# Parameters\n",
        "img_height, img_width = 224, 224\n",
        "batch_size = 32\n",
        "train_data_dir = '/content/drive/My Drive/datasets/train_data'  # Replace with your training dataset path\n",
        "val_data_dir = '/content/drive/My Drive/datasets/val_data'      # Replace with your validation dataset path\n",
        "\n",
        "# Image Data Generators\n",
        "train_datagen = ImageDataGenerator(rescale=1./255)\n",
        "val_datagen = ImageDataGenerator(rescale=1./255)\n",
        "\n",
        "train_generator = train_datagen.flow_from_directory(\n",
        "    train_data_dir,\n",
        "    target_size=(img_height, img_width),\n",
        "    batch_size=batch_size,\n",
        "    class_mode='binary')\n",
        "\n",
        "validation_generator = val_datagen.flow_from_directory(\n",
        "    val_data_dir,\n",
        "    target_size=(img_height, img_width),\n",
        "    batch_size=batch_size,\n",
        "    class_mode='binary')\n"
      ],
      "metadata": {
        "colab": {
          "base_uri": "https://localhost:8080/"
        },
        "id": "5GhKZZC_Y-yW",
        "outputId": "87779c2f-42d6-401f-a212-2f881a954af8"
      },
      "execution_count": 13,
      "outputs": [
        {
          "output_type": "stream",
          "name": "stdout",
          "text": [
            "Found 2423 images belonging to 1 classes.\n",
            "Found 2924 images belonging to 1 classes.\n"
          ]
        }
      ]
    },
    {
      "cell_type": "code",
      "source": [
        "# Load ResNet-50 model without the top layer\n",
        "base_model = ResNet50(weights='imagenet', include_top=False, input_shape=(img_height, img_width, 3))\n",
        "\n",
        "# Adding custom layers\n",
        "x = base_model.output\n",
        "x = GlobalAveragePooling2D()(x)\n",
        "x = Dense(1024, activation='relu')(x)\n",
        "predictions = Dense(1, activation='sigmoid')(x)\n",
        "\n",
        "# Defining the model\n",
        "model = Model(inputs=base_model.input, outputs=predictions)\n",
        "\n",
        "# Freezing the base model layers\n",
        "for layer in base_model.layers:\n",
        "    layer.trainable = False\n",
        "\n",
        "# Compile the model\n",
        "model.compile(optimizer='adam', loss='binary_crossentropy', metrics=['accuracy'])\n"
      ],
      "metadata": {
        "colab": {
          "base_uri": "https://localhost:8080/"
        },
        "id": "5v3dNVhpc8Ee",
        "outputId": "39ebdbee-38b1-4ade-c96c-6003ca35d116"
      },
      "execution_count": 9,
      "outputs": [
        {
          "output_type": "stream",
          "name": "stdout",
          "text": [
            "Downloading data from https://storage.googleapis.com/tensorflow/keras-applications/resnet/resnet50_weights_tf_dim_ordering_tf_kernels_notop.h5\n",
            "94765736/94765736 [==============================] - 6s 0us/step\n"
          ]
        }
      ]
    },
    {
      "cell_type": "code",
      "source": [
        "# Train the model\n",
        "history = model.fit(\n",
        "    train_generator,\n",
        "    steps_per_epoch=train_generator.samples // batch_size,\n",
        "    validation_steps=validation_generator.samples // batch_size,\n",
        "    validation_data=validation_generator,\n",
        "    epochs=10\n",
        ")\n",
        "\n",
        "# Save the trained model\n",
        "model.save('/content/drive/My Drive/currency_detection_model.h5')\n"
      ],
      "metadata": {
        "colab": {
          "base_uri": "https://localhost:8080/"
        },
        "id": "C6xKyfjFdKfp",
        "outputId": "b5932d3e-94dd-4a86-e3f1-32f990e726be"
      },
      "execution_count": 10,
      "outputs": [
        {
          "output_type": "stream",
          "name": "stdout",
          "text": [
            "Epoch 1/10\n",
            "75/75 [==============================] - 1411s 19s/step - loss: 0.0066 - accuracy: 1.0000\n",
            "Epoch 2/10\n",
            "75/75 [==============================] - 43s 573ms/step - loss: 1.7786e-11 - accuracy: 1.0000\n",
            "Epoch 3/10\n",
            "75/75 [==============================] - 43s 565ms/step - loss: 1.7753e-11 - accuracy: 1.0000\n",
            "Epoch 4/10\n",
            "75/75 [==============================] - 44s 581ms/step - loss: 1.7742e-11 - accuracy: 1.0000\n",
            "Epoch 5/10\n",
            "75/75 [==============================] - 42s 562ms/step - loss: 1.7764e-11 - accuracy: 1.0000\n",
            "Epoch 6/10\n",
            "75/75 [==============================] - 43s 575ms/step - loss: 1.7804e-11 - accuracy: 1.0000\n",
            "Epoch 7/10\n",
            "75/75 [==============================] - 44s 584ms/step - loss: 1.7763e-11 - accuracy: 1.0000\n",
            "Epoch 8/10\n",
            "75/75 [==============================] - 43s 578ms/step - loss: 1.7756e-11 - accuracy: 1.0000\n",
            "Epoch 9/10\n",
            "75/75 [==============================] - 47s 621ms/step - loss: 1.7742e-11 - accuracy: 1.0000\n",
            "Epoch 10/10\n",
            "75/75 [==============================] - 44s 582ms/step - loss: 1.7742e-11 - accuracy: 1.0000\n"
          ]
        },
        {
          "output_type": "stream",
          "name": "stderr",
          "text": [
            "/usr/local/lib/python3.10/dist-packages/keras/src/engine/training.py:3103: UserWarning: You are saving your model as an HDF5 file via `model.save()`. This file format is considered legacy. We recommend using instead the native Keras format, e.g. `model.save('my_model.keras')`.\n",
            "  saving_api.save_model(\n"
          ]
        }
      ]
    },
    {
      "cell_type": "code",
      "source": [
        "# Load the saved model\n",
        "model = tf.keras.models.load_model('/content/drive/My Drive/currency_detection_model.h5')\n",
        "\n",
        "# Evaluate the model on the validation set\n",
        "# Calculate the number of steps per epoch correctly\n",
        "val_loss, val_accuracy = model.evaluate(validation_generator, steps=validation_generator.samples // batch_size + 1)\n",
        "print(f\"Validation Accuracy: {val_accuracy * 100:.2f}%\")\n",
        "\n",
        "# Predict classes\n",
        "validation_generator.reset()\n",
        "Y_pred = model.predict(validation_generator, validation_generator.samples // batch_size + 1)\n",
        "y_pred = (Y_pred > 0.5).astype(int).reshape(-1)\n",
        "\n",
        "# Get the true labels\n",
        "y_true = validation_generator.classes\n",
        "\n",
        "# Classification report\n",
        "print(classification_report(y_true, y_pred, target_names=['Currency'])) # Change target_names to a single name\n",
        "\n",
        "# Confusion matrix\n",
        "cm = confusion_matrix(y_true, y_pred)\n",
        "plt.figure(figsize=(8, 6))\n",
        "sns.heatmap(cm, annot=True, fmt='d', cmap='Blues', xticklabels=['Currency'], yticklabels=['Currency']) # Change xticklabels and yticklabels to a single name\n",
        "plt.xlabel('Predicted')\n",
        "plt.ylabel('True')\n",
        "plt.title('Confusion Matrix')\n",
        "plt.show()"
      ],
      "metadata": {
        "colab": {
          "base_uri": "https://localhost:8080/",
          "height": 775
        },
        "id": "duXR5W_UlVWW",
        "outputId": "464ebd1b-b99a-4929-d396-1e290046d470"
      },
      "execution_count": 15,
      "outputs": [
        {
          "output_type": "stream",
          "name": "stdout",
          "text": [
            "92/92 [==============================] - 50s 531ms/step - loss: 1.6849e-11 - accuracy: 1.0000\n",
            "Validation Accuracy: 100.00%\n",
            "92/92 [==============================] - 53s 563ms/step\n",
            "              precision    recall  f1-score   support\n",
            "\n",
            "    Currency       1.00      1.00      1.00      2924\n",
            "\n",
            "    accuracy                           1.00      2924\n",
            "   macro avg       1.00      1.00      1.00      2924\n",
            "weighted avg       1.00      1.00      1.00      2924\n",
            "\n"
          ]
        },
        {
          "output_type": "display_data",
          "data": {
            "text/plain": [
              "<Figure size 800x600 with 2 Axes>"
            ],
            "image/png": "[encoded data removed]"
          },
          "metadata": {}
        }
      ]
    }
  ]
}